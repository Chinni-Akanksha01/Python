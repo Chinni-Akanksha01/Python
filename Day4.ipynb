{
  "nbformat": 4,
  "nbformat_minor": 0,
  "metadata": {
    "colab": {
      "provenance": [],
      "authorship_tag": "ABX9TyMFOPk1PonbggXwgB2D8y33",
      "include_colab_link": true
    },
    "kernelspec": {
      "name": "python3",
      "display_name": "Python 3"
    },
    "language_info": {
      "name": "python"
    }
  },
  "cells": [
    {
      "cell_type": "markdown",
      "metadata": {
        "id": "view-in-github",
        "colab_type": "text"
      },
      "source": [
        "<a href=\"https://colab.research.google.com/github/Chinni-Akanksha01/Python/blob/main/Day4.ipynb\" target=\"_parent\"><img src=\"https://colab.research.google.com/assets/colab-badge.svg\" alt=\"Open In Colab\"/></a>"
      ]
    },
    {
      "cell_type": "code",
      "execution_count": 3,
      "metadata": {
        "colab": {
          "base_uri": "https://localhost:8080/"
        },
        "id": "rCnBk82Nm63A",
        "outputId": "9a1b8567-c11a-4636-d5a1-6098ac75c700"
      },
      "outputs": [
        {
          "output_type": "stream",
          "name": "stdout",
          "text": [
            "Enter a number60\n",
            "870\n"
          ]
        }
      ],
      "source": [
        "#Write a Python program to calculate the sum of all even numbers between 1 and a given positive integer\n",
        "n=int(input(\"Enter a number\"))\n",
        "sum=0\n",
        "for i in range(1,n):\n",
        "  if i%2==0:\n",
        "    sum=sum+i\n",
        "print(sum)\n"
      ]
    }
  ]
}
{
  "nbformat": 4,
  "nbformat_minor": 0,
  "metadata": {
    "colab": {
      "provenance": [],
      "authorship_tag": "ABX9TyO0ou9T5BO4mQibBy/V+hgC",
      "include_colab_link": true
    },
    "kernelspec": {
      "name": "python3",
      "display_name": "Python 3"
    },
    "language_info": {
      "name": "python"
    }
  },
  "cells": [
    {
      "cell_type": "markdown",
      "metadata": {
        "id": "view-in-github",
        "colab_type": "text"
      },
      "source": [
        "<a href=\"https://colab.research.google.com/github/Chinni-Akanksha01/Python/blob/main/Day3.ipynb\" target=\"_parent\"><img src=\"https://colab.research.google.com/assets/colab-badge.svg\" alt=\"Open In Colab\"/></a>"
      ]
    },
    {
      "cell_type": "code",
      "execution_count": 4,
      "metadata": {
        "colab": {
          "base_uri": "https://localhost:8080/"
        },
        "id": "XTubqoy1eoYG",
        "outputId": "869f27cb-70dd-4417-fb3a-7acc982c700f"
      },
      "outputs": [
        {
          "output_type": "stream",
          "name": "stdout",
          "text": [
            "Enter marks for subject1: 80\n",
            "Enter marks for subject2: 83\n",
            "Enter marks for subject3: 97\n",
            "Grade: B\n"
          ]
        }
      ],
      "source": [
        "#Write a Python program that takes a student's marks in three subjects as input.\n",
        "#If the average is greater than or equal to 90, print \"Grade: A\".\n",
        "#If the average is between 80 and 89, print \"Grade: B\".\n",
        "#If the average is between 70 and 79, print \"Grade: C\".\n",
        "#Otherwise, print \"Grade: Fail\".\n",
        "\n",
        "\n",
        "sub1_marks=int(input(\"Enter marks for subject1: \"))\n",
        "sub2_marks=int(input(\"Enter marks for subject2: \"))\n",
        "sub3_marks=int(input(\"Enter marks for subject3: \"))\n",
        "average=(sub1_marks+sub2_marks+sub3_marks)/3\n",
        "if average >=90:\n",
        "  print(\"Grade: A\")\n",
        "elif average >=80:\n",
        "  print(\"Grade: B\")\n",
        "elif average >=70:\n",
        "  print(\"Grade: C\")\n",
        "else:\n",
        "  print(\"Grade: Fail\")\n",
        "\n"
      ]
    }
  ]
}